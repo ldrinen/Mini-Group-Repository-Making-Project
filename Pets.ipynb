{
 "cells": [
  {
   "cell_type": "code",
   "execution_count": 1,
   "metadata": {},
   "outputs": [
    {
     "name": "stdin",
     "output_type": "stream",
     "text": [
      "What's your name? Hick\n",
      "How many pets do you have? 2\n"
     ]
    },
    {
     "name": "stdout",
     "output_type": "stream",
     "text": [
      "Thats quite a lot, Hick.\n"
     ]
    }
   ],
   "source": [
    "user_name = input(\"What's your name?\")\n",
    "pet_num = input(\"How many pets do you have?\")\n",
    "\n",
    "pet_num = int(pet_num)\n",
    "if pet_num < 0:\n",
    "    print(\"Thats impossible, \" + user_name + \".\")\n",
    "elif pet_num == 0:\n",
    "    print(\"Why not, \" + user_name + \"?\")\n",
    "elif pet_num == 1:\n",
    "    pet_type = input(\"What kind?\")\n",
    "    if ((pet_type == \"dog\") or pet_type == \"cat\"):\n",
    "        print(\"Ok, \" + user_name + \".\")\n",
    "    else:\n",
    "        print(\"Very interesting, \" + user_name + \".\")\n",
    "else:\n",
    "    print(\"Thats quite a lot, \" + user_name + \".\")"
   ]
  },
  {
   "cell_type": "code",
   "execution_count": null,
   "metadata": {},
   "outputs": [],
   "source": []
  }
 ],
 "metadata": {
  "kernelspec": {
   "display_name": "Python 3",
   "language": "python",
   "name": "python3"
  },
  "language_info": {
   "codemirror_mode": {
    "name": "ipython",
    "version": 3
   },
   "file_extension": ".py",
   "mimetype": "text/x-python",
   "name": "python",
   "nbconvert_exporter": "python",
   "pygments_lexer": "ipython3",
   "version": "3.8.3"
  }
 },
 "nbformat": 4,
 "nbformat_minor": 4
}

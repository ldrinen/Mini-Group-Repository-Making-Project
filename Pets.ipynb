{
 "cells": [
  {
   "cell_type": "code",
   "execution_count": 25,
   "metadata": {},
   "outputs": [
    {
     "name": "stdin",
     "output_type": "stream",
     "text": [
      "What's your name? 110\n",
      "How many pets do you have? 10\n"
     ]
    },
    {
     "name": "stdout",
     "output_type": "stream",
     "text": [
      "Thats quite a lot, 110.\n"
     ]
    }
   ],
   "source": [
    "from random import randint\n",
    "\n",
    "user_name = input(\"What's your name?\")\n",
    "pet_num = input(\"How many pets do you have?\")\n",
    "\n",
    "pet_num = int(pet_num)\n",
    "if pet_num < 0:\n",
    "    print(\"Thats impossible, \" + user_name + \".\")\n",
    "elif pet_num == 0:\n",
    "    print(\"Why not, \" + user_name + \"?\")\n",
    "elif pet_num == 1:\n",
    "    pet_type = input(\"What kind?\")\n",
    "    pet_breed = input(\"What breed?\")\n",
    "    if ((pet_type == \"dog\") or pet_type == \"cat\"):\n",
    "        print(\"Ok, \" + user_name  + \". \" + \"I love \" + pet_breed + \" \" + pet_type + \"s.\")\n",
    "    else:\n",
    "        print(\"Very interesting, \" + user_name + \",\")\n",
    "else:\n",
    "    print(\"Thats quite a lot, \" + user_name + \".\")"
   ]
  }
 ],
 "metadata": {
  "kernelspec": {
   "display_name": "Python 3",
   "language": "python",
   "name": "python3"
  },
  "language_info": {
   "codemirror_mode": {
    "name": "ipython",
    "version": 3
   },
   "file_extension": ".py",
   "mimetype": "text/x-python",
   "name": "python",
   "nbconvert_exporter": "python",
   "pygments_lexer": "ipython3",
   "version": "3.8.3"
  }
 },
 "nbformat": 4,
 "nbformat_minor": 4
}
